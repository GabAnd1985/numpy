{
 "cells": [
  {
   "cell_type": "markdown",
   "metadata": {},
   "source": [
    "# Condicionales"
   ]
  },
  {
   "cell_type": "code",
   "execution_count": 1,
   "metadata": {},
   "outputs": [],
   "source": [
    "import numpy as np"
   ]
  },
  {
   "cell_type": "code",
   "execution_count": 2,
   "metadata": {},
   "outputs": [],
   "source": [
    "xarr= np.array([1.1, 1.2, 1.3, 1.4, 1.5])\n",
    "\n",
    "yarr= np.array([2.1, 2.2, 2.3, 2.4, 2.5])\n",
    "\n",
    "cond= np.array([True, False, True, True, False])"
   ]
  },
  {
   "cell_type": "markdown",
   "metadata": {},
   "source": [
    "Queremos tomar el valor de xarr cuando el valor de cond es True, de lo contrario yarr. Sin duda esto podría hacerse con un loop, pero es mucho más rápido con la función np.where:"
   ]
  },
  {
   "cell_type": "code",
   "execution_count": 3,
   "metadata": {},
   "outputs": [
    {
     "name": "stdout",
     "output_type": "stream",
     "text": [
      "[1.1 2.2 1.3 1.4 2.5]\n"
     ]
    }
   ],
   "source": [
    "result= np.where(cond, xarr, yarr)\n",
    "\n",
    "print(result)"
   ]
  },
  {
   "cell_type": "markdown",
   "metadata": {},
   "source": [
    "El segundo y tercer elemento de la función, no necesitan ser arrays, pueden ser escalares."
   ]
  },
  {
   "cell_type": "markdown",
   "metadata": {},
   "source": [
    "Supongamos que queremos reemplazar todos los valores positivos de una matriz con 2 y todos los negativos con -2:"
   ]
  },
  {
   "cell_type": "code",
   "execution_count": 4,
   "metadata": {},
   "outputs": [
    {
     "name": "stdout",
     "output_type": "stream",
     "text": [
      "[[-1.19300827 -0.02208577  0.25071348  0.56337384]\n",
      " [ 0.53792126  0.37930192  2.16776255 -0.32144565]\n",
      " [-0.32730869  0.18917925 -0.23374401  0.10806527]\n",
      " [-0.47945115  1.31670854  0.33171865 -1.52340704]]\n"
     ]
    }
   ],
   "source": [
    "arr= np.random.randn(4,4)\n",
    "\n",
    "print(arr)"
   ]
  },
  {
   "cell_type": "code",
   "execution_count": 5,
   "metadata": {},
   "outputs": [
    {
     "name": "stdout",
     "output_type": "stream",
     "text": [
      "[[-2 -2  2  2]\n",
      " [ 2  2  2 -2]\n",
      " [-2  2 -2  2]\n",
      " [-2  2  2 -2]]\n"
     ]
    }
   ],
   "source": [
    "arr1= np.where(arr > 0, 2, -2)\n",
    "\n",
    "print(arr1)"
   ]
  },
  {
   "cell_type": "markdown",
   "metadata": {},
   "source": [
    "También se pueden combinar escalares con arrays:"
   ]
  },
  {
   "cell_type": "code",
   "execution_count": 6,
   "metadata": {},
   "outputs": [
    {
     "name": "stdout",
     "output_type": "stream",
     "text": [
      "[[-1.19300827 -0.02208577  2.          2.        ]\n",
      " [ 2.          2.          2.         -0.32144565]\n",
      " [-0.32730869  2.         -0.23374401  2.        ]\n",
      " [-0.47945115  2.          2.         -1.52340704]]\n"
     ]
    }
   ],
   "source": [
    "arr2= np.where(arr > 0, 2, arr)\n",
    "\n",
    "print(arr2)"
   ]
  }
 ],
 "metadata": {
  "kernelspec": {
   "display_name": "Python 3",
   "language": "python",
   "name": "python3"
  },
  "language_info": {
   "codemirror_mode": {
    "name": "ipython",
    "version": 3
   },
   "file_extension": ".py",
   "mimetype": "text/x-python",
   "name": "python",
   "nbconvert_exporter": "python",
   "pygments_lexer": "ipython3",
   "version": "3.7.6"
  }
 },
 "nbformat": 4,
 "nbformat_minor": 4
}
