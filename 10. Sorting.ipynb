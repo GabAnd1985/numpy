{
 "cells": [
  {
   "cell_type": "markdown",
   "metadata": {},
   "source": [
    "# Sorting"
   ]
  },
  {
   "cell_type": "code",
   "execution_count": 10,
   "metadata": {},
   "outputs": [],
   "source": [
    "import numpy as np"
   ]
  },
  {
   "cell_type": "code",
   "execution_count": 24,
   "metadata": {},
   "outputs": [
    {
     "name": "stdout",
     "output_type": "stream",
     "text": [
      "[ 1.1267363  -0.4788318   0.37236782  1.57733246 -0.52384247 -0.39351379]\n"
     ]
    }
   ],
   "source": [
    "arr= np.random.randn(6)\n",
    "\n",
    "print(arr)"
   ]
  },
  {
   "cell_type": "code",
   "execution_count": 25,
   "metadata": {},
   "outputs": [
    {
     "name": "stdout",
     "output_type": "stream",
     "text": [
      "[-0.52384247 -0.4788318  -0.39351379  0.37236782  1.1267363   1.57733246]\n"
     ]
    }
   ],
   "source": [
    "arr.sort()\n",
    "\n",
    "print(arr)"
   ]
  },
  {
   "cell_type": "code",
   "execution_count": 15,
   "metadata": {},
   "outputs": [
    {
     "name": "stdout",
     "output_type": "stream",
     "text": [
      "[-1.4880417   0.84354531  1.04080111  1.49197136  1.87673989  1.98576569]\n"
     ]
    }
   ],
   "source": [
    "arr1= np.sort(arr)\n",
    "\n",
    "print(arr1)"
   ]
  },
  {
   "cell_type": "markdown",
   "metadata": {},
   "source": [
    "Es recomendable siempre usar la función de numpy. Nos permite generar un nuevo elemento, algo que la función porpia de python no hace."
   ]
  },
  {
   "cell_type": "markdown",
   "metadata": {},
   "source": [
    "Si se trata de un array multidimensional, podemos elegir la dimensión a través de la cual hacemos el ordenamiento:"
   ]
  },
  {
   "cell_type": "code",
   "execution_count": 27,
   "metadata": {},
   "outputs": [
    {
     "name": "stdout",
     "output_type": "stream",
     "text": [
      "[[ 0.01493288  0.95844246 -0.03888395]\n",
      " [-0.82571697 -0.8588006   0.12135768]\n",
      " [ 2.85482726  1.26181995 -0.21933231]\n",
      " [-0.21357297 -0.45462061  0.09480475]\n",
      " [-0.9552135  -0.74373655  0.45565067]]\n"
     ]
    }
   ],
   "source": [
    "arr2= np.random.randn(5,3)\n",
    "\n",
    "print(arr2)"
   ]
  },
  {
   "cell_type": "code",
   "execution_count": 29,
   "metadata": {},
   "outputs": [
    {
     "name": "stdout",
     "output_type": "stream",
     "text": [
      "[[-0.03888395  0.01493288  0.95844246]\n",
      " [-0.8588006  -0.82571697  0.12135768]\n",
      " [-0.21933231  1.26181995  2.85482726]\n",
      " [-0.45462061 -0.21357297  0.09480475]\n",
      " [-0.9552135  -0.74373655  0.45565067]]\n"
     ]
    }
   ],
   "source": [
    "arr3= np.sort(arr2, axis= 1)\n",
    "\n",
    "print(arr3)"
   ]
  },
  {
   "cell_type": "code",
   "execution_count": 30,
   "metadata": {},
   "outputs": [
    {
     "name": "stdout",
     "output_type": "stream",
     "text": [
      "[[-0.03888395  0.01493288  0.95844246]\n",
      " [-0.8588006  -0.82571697  0.12135768]\n",
      " [-0.21933231  1.26181995  2.85482726]\n",
      " [-0.45462061 -0.21357297  0.09480475]\n",
      " [-0.9552135  -0.74373655  0.45565067]]\n"
     ]
    }
   ],
   "source": [
    "arr2.sort(1)\n",
    "\n",
    "print(arr2)"
   ]
  }
 ],
 "metadata": {
  "kernelspec": {
   "display_name": "Python 3",
   "language": "python",
   "name": "python3"
  },
  "language_info": {
   "codemirror_mode": {
    "name": "ipython",
    "version": 3
   },
   "file_extension": ".py",
   "mimetype": "text/x-python",
   "name": "python",
   "nbconvert_exporter": "python",
   "pygments_lexer": "ipython3",
   "version": "3.7.6"
  }
 },
 "nbformat": 4,
 "nbformat_minor": 4
}
